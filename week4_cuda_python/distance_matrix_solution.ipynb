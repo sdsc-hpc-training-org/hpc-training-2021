{
 "cells": [
  {
   "cell_type": "markdown",
   "metadata": {},
   "source": [
    "# CUDA-Python with Numba\n",
    "\n",
    "### 2D Threadblocks\n",
    "\n",
    "CUDA allows us to use 1, 2, or 3 dimensional grids and threadblocks.  In this example, we'll utilize a two-dimensional threadblock to simplify our kernel definition.\n",
    "\n",
    "The kernel that we'll write computes the distance between all pairs of atoms within single molecules. That is, we'll compute intramolecular distances for each molecule in a list of molecules.  "
   ]
  },
  {
   "cell_type": "code",
   "execution_count": 1,
   "metadata": {},
   "outputs": [],
   "source": [
    "import numba\n",
    "from numba import cuda\n",
    "import numpy as np\n",
    "import math"
   ]
  },
  {
   "cell_type": "markdown",
   "metadata": {},
   "source": [
    "### Input Data\n",
    "\n",
    "For a list of `N` molecules with at most `ATOM_MAX` atoms, each of which has `3` spatial coordinates specified, our input data will be shaped `(N, ATOM_MAX, 3)`.  We'll generate some random coordinates and store these in the array `crds`.\n",
    "\n",
    "The result array will be shaped `(N, ATOM_MAX, ATOM_MAX)`."
   ]
  },
  {
   "cell_type": "code",
   "execution_count": 2,
   "metadata": {},
   "outputs": [],
   "source": [
    "# CONSTANTS\n",
    "ATOM_MAX = 29\n",
    "N = int(1e4)"
   ]
  },
  {
   "cell_type": "code",
   "execution_count": 3,
   "metadata": {},
   "outputs": [],
   "source": [
    "crds = np.random.random((N, ATOM_MAX, 3))\n",
    "crds_natoms = np.array([ATOM_MAX]*N)\n",
    "\n",
    "# create result array on the GPU\n",
    "shape = (N, ATOM_MAX, ATOM_MAX)\n",
    "distance_mat_gpu = cuda.device_array(shape, dtype=np.float32)"
   ]
  },
  {
   "cell_type": "markdown",
   "metadata": {},
   "source": [
    "### Kernel Design\n",
    "\n",
    "We'll leverage the block-thread hierarchy in CUDA to make our kernel design simple.  Specifically, we'll use a 2-D threadblock such that each thread will compute a distance between a unique pair of atoms in our array.  In other words, `threadIdx.x` and `threadIdx.y` will index into atoms `i` and `j` of each molecule.  It follows that `blockIdx.x` should be 1-D and index over molecules."
   ]
  },
  {
   "cell_type": "code",
   "execution_count": 4,
   "metadata": {},
   "outputs": [],
   "source": [
    "@cuda.jit\n",
    "def compute_distance_mat(crds, natoms, dmat):\n",
    "    \n",
    "    tx = cuda.threadIdx.x\n",
    "    ty = cuda.threadIdx.y\n",
    "    bx = cuda.blockIdx.x\n",
    "    \n",
    "    dmat[bx, tx, ty] = 0.0\n",
    "    \n",
    "    # bounds check\n",
    "    N = natoms[bx]\n",
    "    if tx >= N: return\n",
    "    if ty >= N: return \n",
    "    \n",
    "    for i in range(3):\n",
    "        dmat[bx, tx, ty] += ( crds[bx, tx, i] - crds[bx, ty, i] )**2\n",
    "    dmat[bx, tx, ty] = math.sqrt(dmat[bx, tx, ty])  "
   ]
  },
  {
   "cell_type": "markdown",
   "metadata": {},
   "source": [
    "### Call CUDA Kernel\n",
    "First, we'll want to move our data to the GPU.  We only have to do this for the `crds` array.  The results array doesn't exist, so we'll create space for this on the GPU.\n",
    "\n",
    "Next, we want to launch the kernel.  To do so, we'll have to include a launch configuration that specifies how many blocks and threads to use.  As we discussed above, we want this kernel to use a 2-D threadblock so that `threadIdx.x` and `threadIdx.y` index into atoms `i` and `j` of each molecule.  It follows that `blockIdx.x` should be 1-D and index over molecules."
   ]
  },
  {
   "cell_type": "code",
   "execution_count": 5,
   "metadata": {},
   "outputs": [
    {
     "name": "stdout",
     "output_type": "stream",
     "text": [
      "210 ms ± 0 ns per loop (mean ± std. dev. of 1 run, 1 loop each)\n"
     ]
    },
    {
     "data": {
      "text/plain": [
       "<TimeitResult : 210 ms ± 0 ns per loop (mean ± std. dev. of 1 run, 1 loop each)>"
      ]
     },
     "execution_count": 5,
     "metadata": {},
     "output_type": "execute_result"
    }
   ],
   "source": [
    "%%timeit -n1 -r1 -o\n",
    "\n",
    "#transfer structures data (the coordinates) to GPU\n",
    "crds_gpu = cuda.to_device(crds)\n",
    "crds_natoms_gpu = cuda.to_device(crds_natoms)\n",
    "\n",
    "# launch kernel\n",
    "compute_distance_mat[ N , (29, 29)](crds_gpu, crds_natoms_gpu, distance_mat_gpu)\n",
    "\n",
    "# copy the data back\n",
    "distance_mat_cpu = distance_mat_gpu.copy_to_host()"
   ]
  },
  {
   "cell_type": "code",
   "execution_count": 6,
   "metadata": {},
   "outputs": [],
   "source": [
    "# store the timing result\n",
    "GPU_TIMING = _"
   ]
  },
  {
   "cell_type": "markdown",
   "metadata": {},
   "source": [
    "### Naive Numpy Version\n",
    "There are better ways to do this calculation, but they require reshapes and broadcasts.  For the sake of simplicity and ensuring that we're computing the correct result, we use loops."
   ]
  },
  {
   "cell_type": "code",
   "execution_count": 7,
   "metadata": {},
   "outputs": [],
   "source": [
    "dmat_np_cpu = np.zeros((N, ATOM_MAX, ATOM_MAX))"
   ]
  },
  {
   "cell_type": "code",
   "execution_count": 8,
   "metadata": {},
   "outputs": [
    {
     "name": "stdout",
     "output_type": "stream",
     "text": [
      "56.6 s ± 0 ns per loop (mean ± std. dev. of 1 run, 1 loop each)\n"
     ]
    },
    {
     "data": {
      "text/plain": [
       "<TimeitResult : 56.6 s ± 0 ns per loop (mean ± std. dev. of 1 run, 1 loop each)>"
      ]
     },
     "execution_count": 8,
     "metadata": {},
     "output_type": "execute_result"
    }
   ],
   "source": [
    "%%timeit -n1 -r1 -o\n",
    "\n",
    "for m in range(N):\n",
    "    for i in range(ATOM_MAX):\n",
    "        for j in range(ATOM_MAX):\n",
    "            dmat_np_cpu[m,i,j] = np.sqrt(np.sum((crds[m, i] - crds[m,j])**2))"
   ]
  },
  {
   "cell_type": "code",
   "execution_count": 9,
   "metadata": {},
   "outputs": [],
   "source": [
    "# store the timing result\n",
    "CPU_TIMING = _"
   ]
  },
  {
   "cell_type": "markdown",
   "metadata": {},
   "source": [
    "### Speedup Factor"
   ]
  },
  {
   "cell_type": "code",
   "execution_count": 10,
   "metadata": {},
   "outputs": [
    {
     "name": "stdout",
     "output_type": "stream",
     "text": [
      "Speedup factor:  269.10209998987614 X\n"
     ]
    }
   ],
   "source": [
    "print('Speedup factor: ', CPU_TIMING.average / GPU_TIMING.average, 'X')"
   ]
  },
  {
   "cell_type": "markdown",
   "metadata": {},
   "source": [
    "### Checking Results"
   ]
  },
  {
   "cell_type": "code",
   "execution_count": 11,
   "metadata": {},
   "outputs": [
    {
     "name": "stdout",
     "output_type": "stream",
     "text": [
      "results agree\n"
     ]
    }
   ],
   "source": [
    "# copy the data back (again)\n",
    "distance_mat_cpu = distance_mat_gpu.copy_to_host()\n",
    "\n",
    "# check results\n",
    "tol = 1e-4\n",
    "error = 0\n",
    "for m in range(N):\n",
    "    for i in range(ATOM_MAX):\n",
    "        for j in range(ATOM_MAX):\n",
    "            r = dmat_np_cpu[m,i,j] - distance_mat_cpu[m,i,j]\n",
    "            if r>tol:\n",
    "                error=1\n",
    "if not error:\n",
    "    print('results agree')"
   ]
  }
 ],
 "metadata": {
  "kernelspec": {
   "display_name": "Python 3",
   "language": "python",
   "name": "python3"
  },
  "language_info": {
   "codemirror_mode": {
    "name": "ipython",
    "version": 3
   },
   "file_extension": ".py",
   "mimetype": "text/x-python",
   "name": "python",
   "nbconvert_exporter": "python",
   "pygments_lexer": "ipython3",
   "version": "3.7.6"
  }
 },
 "nbformat": 4,
 "nbformat_minor": 4
}
