{
 "cells": [
  {
   "cell_type": "markdown",
   "metadata": {},
   "source": [
    "# CUDA Ufuncs\n",
    "\n",
    "Numba’s vectorize allows Python functions taking scalar input arguments to be used as NumPy ufuncs. Using the `vectorize()` decorator, Numba can compile a pure Python function into a ufunc that operates over NumPy arrays and executes on the GPU.\n",
    "\n",
    "Using vectorize(), you write your function as operating over input scalars, rather than arrays. Numba will generate the surrounding loop (or kernel) allowing efficient iteration over the actual inputs."
   ]
  },
  {
   "cell_type": "code",
   "execution_count": 1,
   "metadata": {},
   "outputs": [],
   "source": [
    "import numba\n",
    "from numba import vectorize,cuda\n",
    "import numpy as np\n",
    "import math"
   ]
  },
  {
   "cell_type": "markdown",
   "metadata": {},
   "source": [
    "### Law of Cosines\n",
    "\n",
    "For a triangle with sides $a$, $b$, and $c$ the law of cosines dictates that\n",
    "\n",
    "$$\n",
    "\\frac{a^2+b^2-c^2}{2ab}=\\cos C\n",
    "$$\n",
    "\n",
    "### Numba Ufunc Kernel\n",
    "\n",
    "Below, we define the GPU-accelerated eager, or decoration-time, compilation vectorized function by providing signatures to the decorator and specifying `target='cuda'`.  GPU-targeted Ufuncs require signatures. \n",
    "\n",
    "As an exercise, complete the missing lines of code.  You will have to specify the signature(s) and computation.  "
   ]
  },
  {
   "cell_type": "code",
   "execution_count": 2,
   "metadata": {},
   "outputs": [],
   "source": [
    "@vectorize(# --- FILL THIS IN ---,\n",
    "           target='cuda')\n",
    "def compute_angle(a, b, c):\n",
    "    # --- FILL THIS IN ---\n",
    "    "
   ]
  },
  {
   "cell_type": "markdown",
   "metadata": {},
   "source": [
    "### Prepare Data"
   ]
  },
  {
   "cell_type": "code",
   "execution_count": 3,
   "metadata": {},
   "outputs": [],
   "source": [
    "N = int(5e8)\n",
    "dtype = np.float32\n",
    "\n",
    "# prepare the input\n",
    "a = np.array(np.random.sample(N)+3, dtype=dtype)\n",
    "b = np.array(np.random.sample(N)+4, dtype=dtype)\n",
    "c = np.array(np.random.sample(N)+5, dtype=dtype)"
   ]
  },
  {
   "cell_type": "markdown",
   "metadata": {},
   "source": [
    "### Call GPU Ufunc\n",
    "Calling a GPU Ufunc is as straight forward as calling a numpy function.  Under the hood, the CUDA launch configuration is handled automatically."
   ]
  },
  {
   "cell_type": "code",
   "execution_count": 4,
   "metadata": {},
   "outputs": [
    {
     "name": "stdout",
     "output_type": "stream",
     "text": [
      "1.34 s ± 28.4 ms per loop (mean ± std. dev. of 5 runs, 2 loops each)\n"
     ]
    },
    {
     "data": {
      "text/plain": [
       "<TimeitResult : 1.34 s ± 28.4 ms per loop (mean ± std. dev. of 5 runs, 2 loops each)>"
      ]
     },
     "execution_count": 4,
     "metadata": {},
     "output_type": "execute_result"
    }
   ],
   "source": [
    "%%timeit -n2 -r5 -o\n",
    "C_GPU = compute_angle(a, b, c)"
   ]
  },
  {
   "cell_type": "code",
   "execution_count": 5,
   "metadata": {},
   "outputs": [],
   "source": [
    "# store the timing result\n",
    "GPU_TIMING = _"
   ]
  },
  {
   "cell_type": "markdown",
   "metadata": {},
   "source": [
    "### Numpy Version\n",
    "Notice the numpy version of the same calculation looks nearly identical to the Ufunc definition.  "
   ]
  },
  {
   "cell_type": "code",
   "execution_count": 6,
   "metadata": {},
   "outputs": [
    {
     "name": "stdout",
     "output_type": "stream",
     "text": [
      "5.78 s ± 0 ns per loop (mean ± std. dev. of 1 run, 1 loop each)\n"
     ]
    },
    {
     "data": {
      "text/plain": [
       "<TimeitResult : 5.78 s ± 0 ns per loop (mean ± std. dev. of 1 run, 1 loop each)>"
      ]
     },
     "execution_count": 6,
     "metadata": {},
     "output_type": "execute_result"
    }
   ],
   "source": [
    "%%timeit -n1 -r1 -o\n",
    "# CPU version\n",
    "C_CPU = np.arccos(( a**2 + b**2 - c**2 ) / ( 2.0 * a * b ))"
   ]
  },
  {
   "cell_type": "code",
   "execution_count": 7,
   "metadata": {},
   "outputs": [],
   "source": [
    "# store the timing result\n",
    "CPU_TIMING = _"
   ]
  },
  {
   "cell_type": "markdown",
   "metadata": {},
   "source": [
    "### Computing Speedup Factor"
   ]
  },
  {
   "cell_type": "code",
   "execution_count": 8,
   "metadata": {},
   "outputs": [
    {
     "name": "stdout",
     "output_type": "stream",
     "text": [
      "Speedup factor:  4.324815961466581 X\n"
     ]
    }
   ],
   "source": [
    "print('Speedup factor: ', CPU_TIMING.average / GPU_TIMING.average, 'X')"
   ]
  },
  {
   "cell_type": "markdown",
   "metadata": {},
   "source": [
    "### Checking Results"
   ]
  },
  {
   "cell_type": "code",
   "execution_count": 9,
   "metadata": {},
   "outputs": [
    {
     "name": "stdout",
     "output_type": "stream",
     "text": [
      "results agree\n"
     ]
    }
   ],
   "source": [
    "# recompute (workaround for timeit bug)\n",
    "C_GPU = compute_angle(a, b, c)\n",
    "C_CPU = np.arccos(( a**2 + b**2 - c**2 ) / ( 2.0 * a * b ))\n",
    "\n",
    "tol=1e-5\n",
    "if np.array(np.abs(C_CPU-C_GPU)<tol).sum()==N:\n",
    "    print('results agree')"
   ]
  }
 ],
 "metadata": {
  "kernelspec": {
   "display_name": "Python 3",
   "language": "python",
   "name": "python3"
  },
  "language_info": {
   "codemirror_mode": {
    "name": "ipython",
    "version": 3
   },
   "file_extension": ".py",
   "mimetype": "text/x-python",
   "name": "python",
   "nbconvert_exporter": "python",
   "pygments_lexer": "ipython3",
   "version": "3.7.6"
  }
 },
 "nbformat": 4,
 "nbformat_minor": 4
}
